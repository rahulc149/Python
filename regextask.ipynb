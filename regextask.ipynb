{
 "cells": [
  {
   "cell_type": "code",
   "execution_count": 2,
   "id": "157afddf-d22f-4fa8-85db-a633541a9b93",
   "metadata": {},
   "outputs": [],
   "source": [
    "import re"
   ]
  },
  {
   "cell_type": "code",
   "execution_count": 3,
   "id": "5967d37f-5dd7-4697-b864-76525c2b56e0",
   "metadata": {},
   "outputs": [
    {
     "name": "stdout",
     "output_type": "stream",
     "text": [
      "['Basic', 'qualification', 'is', 'kindness']\n"
     ]
    }
   ],
   "source": [
    "a='Basic qualification is kindness'\n",
    "b=re.compile('[a-zA-Z0-9]+')\n",
    "c=b.findall(a)\n",
    "print(c)"
   ]
  },
  {
   "cell_type": "code",
   "execution_count": 4,
   "id": "da6e17aa-95e1-4666-a1ae-936ddb247795",
   "metadata": {},
   "outputs": [
    {
     "name": "stdout",
     "output_type": "stream",
     "text": [
      "['123']\n"
     ]
    }
   ],
   "source": [
    "a='Basic qualification is kindness 123'\n",
    "b=re.compile('[0-9]+')\n",
    "c=b.findall(a)\n",
    "print(c)"
   ]
  },
  {
   "cell_type": "code",
   "execution_count": 5,
   "id": "b48d4c69-02ae-47b9-9ae4-044dc87d2515",
   "metadata": {},
   "outputs": [
    {
     "name": "stdout",
     "output_type": "stream",
     "text": [
      "['Basic', 'qualification', 'is', 'kindness']\n"
     ]
    }
   ],
   "source": [
    "a='Basic qualification is kindness 12345'\n",
    "b=re.compile('[a-zA-Z]+')\n",
    "c=b.findall(a)\n",
    "print(c)"
   ]
  },
  {
   "cell_type": "code",
   "execution_count": 7,
   "id": "72672209-1c36-4431-806c-5c9b8d1e7d9f",
   "metadata": {},
   "outputs": [
    {
     "name": "stderr",
     "output_type": "stream",
     "text": [
      "<>:1: SyntaxWarning: invalid escape sequence '\\s'\n",
      "<>:1: SyntaxWarning: invalid escape sequence '\\s'\n",
      "C:\\Users\\rahul\\AppData\\Local\\Temp\\ipykernel_77284\\249223510.py:1: SyntaxWarning: invalid escape sequence '\\s'\n",
      "  y=re.sub(\"\\s\",\"^\",a)\n"
     ]
    },
    {
     "data": {
      "text/plain": [
       "'Basic^qualification^is^kindness^12345'"
      ]
     },
     "execution_count": 7,
     "metadata": {},
     "output_type": "execute_result"
    }
   ],
   "source": [
    "y=re.sub(\"\\s\",\"^\",a)\n",
    "y"
   ]
  },
  {
   "cell_type": "code",
   "execution_count": 8,
   "id": "5cd51c00-f26b-4453-b721-59bdc7859bcf",
   "metadata": {},
   "outputs": [
    {
     "data": {
      "text/plain": [
       "<re.Match object; span=(20, 22), match='is'>"
      ]
     },
     "execution_count": 8,
     "metadata": {},
     "output_type": "execute_result"
    }
   ],
   "source": [
    "w=re.search(\"is\",y)\n",
    "w"
   ]
  },
  {
   "cell_type": "code",
   "execution_count": 9,
   "id": "35f59695-4f6c-4031-860e-caacf224f52a",
   "metadata": {},
   "outputs": [
    {
     "data": {
      "text/plain": [
       "['ss']"
      ]
     },
     "execution_count": 9,
     "metadata": {},
     "output_type": "execute_result"
    }
   ],
   "source": [
    "r=re.findall('ss',y)\n",
    "r"
   ]
  },
  {
   "cell_type": "code",
   "execution_count": null,
   "id": "a15b84b0-8729-4cc7-a333-35daa95bb71a",
   "metadata": {},
   "outputs": [],
   "source": []
  }
 ],
 "metadata": {
  "kernelspec": {
   "display_name": "Python 3 (ipykernel)",
   "language": "python",
   "name": "python3"
  },
  "language_info": {
   "codemirror_mode": {
    "name": "ipython",
    "version": 3
   },
   "file_extension": ".py",
   "mimetype": "text/x-python",
   "name": "python",
   "nbconvert_exporter": "python",
   "pygments_lexer": "ipython3",
   "version": "3.12.2"
  }
 },
 "nbformat": 4,
 "nbformat_minor": 5
}
